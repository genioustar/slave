{
 "cells": [
  {
   "cell_type": "code",
   "execution_count": 14,
   "metadata": {},
   "outputs": [],
   "source": [
    "import time\n",
    "\n",
    "import requests\n",
    "from bs4 import BeautifulSoup\n",
    "from selenium import webdriver\n",
    "from selenium.webdriver.common.by import By\n",
    "\n",
    "from selenium.webdriver.chrome.service import Service   # 임희찬 추가\n",
    "from webdriver_manager.chrome import ChromeDriverManager # 임희찬 추가\n",
    "\n"
   ]
  },
  {
   "cell_type": "code",
   "execution_count": 10,
   "metadata": {},
   "outputs": [],
   "source": [
    "url = 'https://m.thankqcamping.com/resv/search.hbb'"
   ]
  },
  {
   "cell_type": "code",
   "execution_count": 16,
   "metadata": {},
   "outputs": [
    {
     "name": "stderr",
     "output_type": "stream",
     "text": [
      "\n",
      "\n",
      "====== WebDriver manager ======\n",
      "Current google-chrome version is 99.0.4844\n",
      "Get LATEST chromedriver version for 99.0.4844 google-chrome\n",
      "There is no [mac64_m1] chromedriver for browser 99.0.4844 in cache\n",
      "Trying to download new driver from https://chromedriver.storage.googleapis.com/99.0.4844.51/chromedriver_mac64_m1.zip\n",
      "Driver has been saved in cache [/Users/hopeful1213/.wdm/drivers/chromedriver/mac64_m1/99.0.4844.51]\n"
     ]
    }
   ],
   "source": [
    "##driver = webdriver.Chrome('chromedriver.exe')\n",
    "chrome_options = webdriver.ChromeOptions()\n",
    "driver = webdriver.Chrome(service=Service(ChromeDriverManager().install()), options=chrome_options)"
   ]
  },
  {
   "cell_type": "code",
   "execution_count": 17,
   "metadata": {},
   "outputs": [],
   "source": [
    "driver.implicitly_wait(3)\n",
    "driver.get(url)"
   ]
  },
  {
   "cell_type": "code",
   "execution_count": 18,
   "metadata": {},
   "outputs": [],
   "source": [
    "driver.find_element(By.CSS_SELECTOR, '#spnResDtInfo > input').send_keys('무릉도원')\n",
    "driver.find_element(By.ID, 'btn_detail_search').click()\n",
    "driver.find_element(By.CSS_SELECTOR, '#DivResvList > li:nth-child(2) > a > div.info').click();"
   ]
  },
  {
   "cell_type": "code",
   "execution_count": 19,
   "metadata": {},
   "outputs": [],
   "source": [
    "# 창 변환\n",
    "driver.switch_to.window(driver.window_handles[-1])\n",
    "time.sleep(3)\n",
    "\n",
    "driver.find_element(By.CSS_SELECTOR, '#container > div > div.fixed_btn > div > button').click()\n",
    "time.sleep(2)"
   ]
  },
  {
   "cell_type": "code",
   "execution_count": 20,
   "metadata": {},
   "outputs": [],
   "source": [
    "# 모달 팝업 닫기\n",
    "driver.switch_to.window(driver.window_handles[-1])\n",
    "# time.sleep(2)\n",
    "driver.find_element(By.CLASS_NAME, 'btn_layerClose').click()"
   ]
  },
  {
   "cell_type": "code",
   "execution_count": 21,
   "metadata": {},
   "outputs": [],
   "source": [
    "table = driver.find_element(By.CLASS_NAME, 'ui-datepicker-calendar')\n",
    "tbody = table.find_element(By.TAG_NAME, \"tbody\")\n",
    "rows = tbody.find_elements(By.TAG_NAME, \"tr\")\n",
    "\n",
    "# print(rows[0].find_elements(By.CLASS_NAME, 'date-disabled')[0].text)\n",
    "# print(rows[0].find_elements(By.CLASS_NAME, 'date-disabled')[1].text)\n",
    "# print(rows[0].find_elements(By.CLASS_NAME, 'date-disabled')[2].text)\n",
    "tr_disabled = []\n",
    "tr_possible = []\n",
    "\n",
    "for index, row in enumerate(rows):\n",
    "    td = row.find_elements(By.TAG_NAME, 'td')\n",
    "    # 캠장 예약 가능한 날짜 보관하는 list\n",
    "\n",
    "    # tr_disabled += row.find_elements(By.CLASS_NAME, 'date-disabled')\n",
    "\n",
    "    for tmp in td:\n",
    "        # print(tmp.get_attribute('class').find('date-disabled') or tmp.get_attribute('class').find('ui-state-disabled'))\n",
    "        if tmp.get_attribute('class').find('date-disabled') != -1:\n",
    "            # print(tmp.text)\n",
    "            tr_disabled.append(tmp)\n",
    "        else:\n",
    "            # print('posi : ' + tmp.text)\n",
    "            tr_possible.append(tmp)\n",
    "\n",
    "tr_possible[-2].click()"
   ]
  },
  {
   "cell_type": "code",
   "execution_count": 22,
   "metadata": {},
   "outputs": [],
   "source": [
    "# TODO 페이지가 새로고처지는 바람에 이런일이 발생하는데... 중복 되는 코드를 줄일 방법을 찾아보기...\n",
    "table = driver.find_element(By.CLASS_NAME, 'ui-datepicker-calendar')\n",
    "tbody = table.find_element(By.TAG_NAME, \"tbody\")\n",
    "rows = tbody.find_elements(By.TAG_NAME, \"tr\")\n",
    "\n",
    "tr_disabled = []\n",
    "tr_possible = []\n",
    "\n",
    "for index, row in enumerate(rows):\n",
    "    td = row.find_elements(By.TAG_NAME, 'td')\n",
    "    # 캠장 예약 가능한 날짜 보관하는 list\n",
    "\n",
    "    # tr_disabled += row.find_elements(By.CLASS_NAME, 'date-disabled')\n",
    "\n",
    "    for tmp in td:\n",
    "        # print(tmp.get_attribute('class').find('date-disabled') or tmp.get_attribute('class').find('ui-state-disabled'))\n",
    "        if tmp.get_attribute('class').find('date-disabled') != -1:\n",
    "            # print(tmp.text)\n",
    "            tr_disabled.append(tmp)\n",
    "        else:\n",
    "            # print('posi : ' + tmp.text)\n",
    "            tr_possible.append(tmp)\n",
    "\n",
    "# for a in tr_possible:\n",
    "#     print(a)\n",
    "\n",
    "tr_possible[-1].click()"
   ]
  },
  {
   "cell_type": "code",
   "execution_count": null,
   "metadata": {},
   "outputs": [
    {
     "name": "stdout",
     "output_type": "stream",
     "text": [
      "2022.04.01\n",
      "2022.04.02(1박)\n",
      "가족형1\n",
      "사이드주차 / 전기사용 / 7m*10m, 부모외 성인은 추가 없.. / 오토캠핑\n",
      "예약불가\n",
      "120,000\n",
      "--------------------------------------\n",
      "B-구역\n",
      "사이드주차 / 전기사용 / 자리지정 / 7 M * 7 M / 오토캠핑\n",
      "예약가능 6자리\n",
      "55,000\n",
      "--------------------------------------\n",
      "파쇄석\n",
      "사이드주차 / 전기사용 / 자리지정 / 파쇄석 7m * 7m / 오토캠핑\n",
      "예약가능 7자리\n",
      "50,000\n",
      "--------------------------------------\n",
      "우대파쇄석\n",
      "전기사용 / 자리지정 / 파쇄석 6미터 * 6미터 / 오토캠핑\n",
      "예약가능 1자리\n",
      "50,000\n",
      "--------------------------------------\n",
      "계곡파쇄석\n",
      "사이드주차 / 전기사용 / 계곡 바로 윗 파쇄석 , 오는 순서대.. / 오토캠핑\n",
      "예약가능 3자리\n",
      "50,000\n",
      "--------------------------------------\n"
     ]
    }
   ],
   "source": [
    "\n",
    "a = driver.find_elements(By.CLASS_NAME, 'site_info')\n",
    "\n",
    "start_date = driver.find_element(By.CSS_SELECTOR, '#container > div > div.imply > div.section.calendar > div.view_date > div > div:nth-child(1) > div > span')\n",
    "end_date = driver.find_element(By.CSS_SELECTOR, '#sel_res_days > option:nth-child(2)')\n",
    "\n",
    "print(start_date.text)\n",
    "print(end_date.text)\n",
    "\n",
    "for b in a:\n",
    "    if b.text.find('예약완료') == -1:\n",
    "        print(b.text)\n",
    "        print('--------------------------------------')\n",
    "\n",
    "while (True):\n",
    "    pass"
   ]
  },
  {
   "cell_type": "code",
   "execution_count": null,
   "metadata": {},
   "outputs": [],
   "source": []
  }
 ],
 "metadata": {
  "anaconda-cloud": {},
  "kernelspec": {
   "display_name": "Python 3 (ipykernel)",
   "language": "python",
   "name": "python3"
  },
  "language_info": {
   "codemirror_mode": {
    "name": "ipython",
    "version": 3
   },
   "file_extension": ".py",
   "mimetype": "text/x-python",
   "name": "python",
   "nbconvert_exporter": "python",
   "pygments_lexer": "ipython3",
   "version": "3.9.10"
  }
 },
 "nbformat": 4,
 "nbformat_minor": 4
}
